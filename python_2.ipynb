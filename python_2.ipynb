{
  "nbformat": 4,
  "nbformat_minor": 0,
  "metadata": {
    "colab": {
      "provenance": [],
      "include_colab_link": true
    },
    "kernelspec": {
      "name": "python3",
      "display_name": "Python 3"
    },
    "language_info": {
      "name": "python"
    }
  },
  "cells": [
    {
      "cell_type": "markdown",
      "metadata": {
        "id": "view-in-github",
        "colab_type": "text"
      },
      "source": [
        "<a href=\"https://colab.research.google.com/github/rahmasifas/phyton_2/blob/main/python_2.ipynb\" target=\"_parent\"><img src=\"https://colab.research.google.com/assets/colab-badge.svg\" alt=\"Open In Colab\"/></a>"
      ]
    },
    {
      "cell_type": "code",
      "execution_count": null,
      "metadata": {
        "id": "ZPOFPaX76yem"
      },
      "outputs": [],
      "source": [
        "nilai_akhir = 70\n",
        "\n",
        "if nilai_akhir >= 80:\n",
        "  print('anda lulus')"
      ]
    },
    {
      "cell_type": "code",
      "source": [
        "nilai_akhir = 70\n",
        "\n",
        "if nilai_akhir >= 80:\n",
        "  print('anda lulus')\n",
        "else:\n",
        "  print('anda tidak lulus')"
      ],
      "metadata": {
        "colab": {
          "base_uri": "https://localhost:8080/"
        },
        "id": "-zmrXIBk78kk",
        "outputId": "eca40e9d-8092-4909-8982-cf740c9843e1"
      },
      "execution_count": null,
      "outputs": [
        {
          "output_type": "stream",
          "name": "stdout",
          "text": [
            "anda tidak lulus\n"
          ]
        }
      ]
    },
    {
      "cell_type": "code",
      "source": [
        "nilai_akhir = 40\n",
        "\n",
        "if nilai_akhir >= 90:\n",
        "  print('Grade A')\n",
        "elif nilai_akhir >=70 and nilai_akhir <90:\n",
        "  print('Grade B')\n",
        "elif nilai_akhir >=60 and nilai_akhir <70:\n",
        "  print('Grade C')\n",
        "elif nilai_akhir >=50 and nilai_akhir <60:\n",
        "  print('Grade D')\n",
        "else:\n",
        "  print('Grade E')"
      ],
      "metadata": {
        "colab": {
          "base_uri": "https://localhost:8080/"
        },
        "id": "vgxO-XSS8FnW",
        "outputId": "28bb3cea-4568-43b8-bd68-8d946aa42139"
      },
      "execution_count": null,
      "outputs": [
        {
          "output_type": "stream",
          "name": "stdout",
          "text": [
            "Grade E\n"
          ]
        }
      ]
    },
    {
      "cell_type": "code",
      "source": [
        "nilai_akhir = 90\n",
        "\n",
        "if nilai_akhir >= 90:\n",
        "  print('Grade A')\n",
        "elif nilai_akhir == 90:\n",
        "  print('Grade B')\n",
        "else:\n",
        "  print('Grade C')"
      ],
      "metadata": {
        "colab": {
          "base_uri": "https://localhost:8080/"
        },
        "id": "Y5CY51gG8obj",
        "outputId": "d7c80b2f-f745-4f03-ef38-642a014493ed"
      },
      "execution_count": null,
      "outputs": [
        {
          "output_type": "stream",
          "name": "stdout",
          "text": [
            "Grade A\n"
          ]
        }
      ]
    },
    {
      "cell_type": "code",
      "source": [
        "listku = ['dian','budi','arif','people 140']\n",
        "if 'arif' in listku:\n",
        "  print('org tersebut ada di dalam kelas')\n",
        "else:\n",
        "  print('org tersebut tidak ada di dalam kelas')"
      ],
      "metadata": {
        "colab": {
          "base_uri": "https://localhost:8080/"
        },
        "id": "WKFGek6k8z-o",
        "outputId": "a5d9cb1a-ba1e-4f94-fde6-8559572b7bc7"
      },
      "execution_count": null,
      "outputs": [
        {
          "output_type": "stream",
          "name": "stdout",
          "text": [
            "org tersebut ada di dalam kelas\n"
          ]
        }
      ]
    },
    {
      "cell_type": "code",
      "source": [
        "listku = ['dian','budi','arif','people 140']\n",
        "if 'arif ' in listku:\n",
        "  print('org tersebut ada di dalam kelas')\n",
        "else:\n",
        "  print('org tersebut tidak ada di dalam kelas')"
      ],
      "metadata": {
        "colab": {
          "base_uri": "https://localhost:8080/"
        },
        "id": "yd25OxpX9_lJ",
        "outputId": "9c70a43d-9592-416a-e48a-4f76ec0d1ece"
      },
      "execution_count": null,
      "outputs": [
        {
          "output_type": "stream",
          "name": "stdout",
          "text": [
            "org tersebut tidak ada di dalam kelas\n"
          ]
        }
      ]
    },
    {
      "cell_type": "code",
      "source": [
        "uang = 9998\n",
        "\n",
        "# pilihan makan\n",
        "# padang diatas 20k\n",
        "# soto diantara 15k - 19.999\n",
        "# batagor 10k - 14.999\n",
        "# pop ice 5k - 9.999\n",
        "# tidak makan dan minum"
      ],
      "metadata": {
        "id": "UcY2QmCn-D40"
      },
      "execution_count": null,
      "outputs": []
    },
    {
      "cell_type": "code",
      "source": [
        "uang = 4000\n",
        "\n",
        "if uang >= 20000:\n",
        "   print(\"Padang\")\n",
        "elif uang >= 15000 and uang < 20000:\n",
        "    print(\"Soto\")\n",
        "elif uang >= 10000 and uang < 15000:\n",
        "    print(\"Batagor\")\n",
        "elif uang >= 5000 and uang < 10000:\n",
        "    print(\"Pop Ice\")"
      ],
      "metadata": {
        "id": "SBregjpA-4mA"
      },
      "execution_count": null,
      "outputs": []
    },
    {
      "cell_type": "code",
      "source": [
        "for i in range(10):\n",
        "  print(i)"
      ],
      "metadata": {
        "colab": {
          "base_uri": "https://localhost:8080/"
        },
        "id": "vNtK2hrN_Bym",
        "outputId": "8aae0f48-8d88-4e4f-b127-d4af6f699c09"
      },
      "execution_count": null,
      "outputs": [
        {
          "output_type": "stream",
          "name": "stdout",
          "text": [
            "2\n",
            "3\n",
            "4\n",
            "5\n",
            "6\n",
            "7\n",
            "8\n",
            "9\n"
          ]
        }
      ]
    },
    {
      "cell_type": "code",
      "source": [
        "i=0\n",
        "while i < 10:\n",
        "  print(i)\n",
        "  i = i + 1\n",
        "  #True\n",
        "  #False berhente"
      ],
      "metadata": {
        "colab": {
          "base_uri": "https://localhost:8080/"
        },
        "id": "p9zOVW9WDBEr",
        "outputId": "464e426b-bb05-42ab-9895-f41b14d6dc79"
      },
      "execution_count": null,
      "outputs": [
        {
          "output_type": "stream",
          "name": "stdout",
          "text": [
            "2\n",
            "3\n",
            "4\n",
            "5\n",
            "6\n",
            "7\n",
            "8\n",
            "9\n"
          ]
        }
      ]
    },
    {
      "cell_type": "code",
      "source": [
        "# for i in range(start,end,step):\n",
        "for i in range(3,10):\n",
        "  print(i)"
      ],
      "metadata": {
        "colab": {
          "base_uri": "https://localhost:8080/"
        },
        "id": "5uVT3Fw9CO5X",
        "outputId": "b380491d-675d-4c40-ed7b-d1ec7a463492"
      },
      "execution_count": null,
      "outputs": [
        {
          "output_type": "stream",
          "name": "stdout",
          "text": [
            "3\n",
            "4\n",
            "5\n",
            "6\n",
            "7\n",
            "8\n",
            "9\n"
          ]
        }
      ]
    },
    {
      "cell_type": "code",
      "source": [
        "# for i in range(start,end,step):\n",
        "for i in range(2,10,2):\n",
        "  print(i)"
      ],
      "metadata": {
        "colab": {
          "base_uri": "https://localhost:8080/"
        },
        "id": "JABbmrU1CnEY",
        "outputId": "82e706f7-819c-4163-f8de-2f8aa1750f09"
      },
      "execution_count": null,
      "outputs": [
        {
          "output_type": "stream",
          "name": "stdout",
          "text": [
            "2\n",
            "4\n",
            "6\n",
            "8\n"
          ]
        }
      ]
    },
    {
      "cell_type": "code",
      "source": [
        "listku = ['apel','pisang','melon','semangka']\n",
        "\n",
        "for i in listku:\n",
        "  print(i)"
      ],
      "metadata": {
        "colab": {
          "base_uri": "https://localhost:8080/"
        },
        "id": "8DCNDMckCqgj",
        "outputId": "4373c336-17af-41ea-c524-ce12f7f5869f"
      },
      "execution_count": null,
      "outputs": [
        {
          "output_type": "stream",
          "name": "stdout",
          "text": [
            "apel\n",
            "pisang\n",
            "melon\n",
            "semangka\n"
          ]
        }
      ]
    },
    {
      "cell_type": "code",
      "source": [
        "for i in listku:\n",
        "    if i == 'pisang':\n",
        "        print('hore')\n",
        "    else:\n",
        "        print('tidak hore')"
      ],
      "metadata": {
        "colab": {
          "base_uri": "https://localhost:8080/"
        },
        "id": "eFxMDaj1EpN_",
        "outputId": "3b748977-048b-4b9e-dbbf-cb5f45e95663"
      },
      "execution_count": null,
      "outputs": [
        {
          "output_type": "stream",
          "name": "stdout",
          "text": [
            "tidak hore\n",
            "hore\n",
            "tidak hore\n",
            "tidak hore\n"
          ]
        }
      ]
    },
    {
      "cell_type": "code",
      "source": [
        "numbers=[4,5,10,20,40,60,80]\n",
        "\n",
        "# ambil element/value >= 10, then masukan ke dalam new_list\n",
        "new_list = []\n",
        "for i in numbers:\n",
        "  if i >= 10:\n",
        "    print(i)"
      ],
      "metadata": {
        "colab": {
          "base_uri": "https://localhost:8080/"
        },
        "id": "RItzi5BrI3ah",
        "outputId": "74b153c2-ee84-4910-cc2e-0af74b8422bb"
      },
      "execution_count": null,
      "outputs": [
        {
          "output_type": "stream",
          "name": "stdout",
          "text": [
            "10\n",
            "20\n",
            "40\n",
            "60\n",
            "80\n"
          ]
        }
      ]
    },
    {
      "cell_type": "code",
      "source": [
        "numbers=[4,5,10,20,40,60,80]\n",
        "\n",
        "# ambil element/value >= 10, then masukan ke dalam new_list\n",
        "new_list = []\n",
        "for i in numbers:\n",
        "  if i >= 10:\n",
        "    new_list.append(i)\n",
        "    print(new_list)\n",
        "\n",
        "print('Akhir : ',new_list)"
      ],
      "metadata": {
        "colab": {
          "base_uri": "https://localhost:8080/"
        },
        "id": "oP0V75taFJvZ",
        "outputId": "c57f8204-aa93-4fb4-ee37-c3547bd77dba"
      },
      "execution_count": null,
      "outputs": [
        {
          "output_type": "stream",
          "name": "stdout",
          "text": [
            "[10]\n",
            "[10, 20]\n",
            "[10, 20, 40]\n",
            "[10, 20, 40, 60]\n",
            "[10, 20, 40, 60, 80]\n",
            "Akhir :  [10, 20, 40, 60, 80]\n"
          ]
        }
      ]
    },
    {
      "cell_type": "code",
      "source": [
        "new_list"
      ],
      "metadata": {
        "colab": {
          "base_uri": "https://localhost:8080/"
        },
        "id": "qoQPxiEeIv9R",
        "outputId": "8d6e81d7-2b04-43f2-b0f8-7eb49250b581"
      },
      "execution_count": null,
      "outputs": [
        {
          "output_type": "execute_result",
          "data": {
            "text/plain": [
              "[10, 20, 40, 60, 80]"
            ]
          },
          "metadata": {},
          "execution_count": 30
        }
      ]
    },
    {
      "cell_type": "code",
      "source": [
        "students={\n",
        "    'name':['Marchella','Raisa','Nasri'],\n",
        "    'age':[18,19,20],\n",
        "    'hobby':['Golf','Swimming','Cooking']\n",
        "}\n",
        "students\n",
        "\n",
        "for x in students:\n",
        "  print(x)"
      ],
      "metadata": {
        "colab": {
          "base_uri": "https://localhost:8080/"
        },
        "id": "GaBsyLxdJEU4",
        "outputId": "1b8fc370-18f8-4c63-a598-a7a54a304407"
      },
      "execution_count": null,
      "outputs": [
        {
          "output_type": "stream",
          "name": "stdout",
          "text": [
            "name\n",
            "age\n",
            "hobby\n"
          ]
        }
      ]
    },
    {
      "cell_type": "code",
      "source": [
        "students['name']"
      ],
      "metadata": {
        "colab": {
          "base_uri": "https://localhost:8080/"
        },
        "id": "fBuKnWujJ7rt",
        "outputId": "b5b9fe9c-9008-4eab-818d-44cd7e987007"
      },
      "execution_count": null,
      "outputs": [
        {
          "output_type": "execute_result",
          "data": {
            "text/plain": [
              "['Marchella', 'Raisa', 'Nasri']"
            ]
          },
          "metadata": {},
          "execution_count": 33
        }
      ]
    },
    {
      "cell_type": "code",
      "source": [
        "for x in students:\n",
        "  print(students[x])"
      ],
      "metadata": {
        "colab": {
          "base_uri": "https://localhost:8080/"
        },
        "id": "Q-rt6-0MKA6d",
        "outputId": "e7376e52-cfae-4667-b8b7-639a1c06e589"
      },
      "execution_count": null,
      "outputs": [
        {
          "output_type": "stream",
          "name": "stdout",
          "text": [
            "['Marchella', 'Raisa', 'Nasri']\n",
            "[18, 19, 20]\n",
            "['Golf', 'Swimming', 'Cooking']\n"
          ]
        }
      ]
    },
    {
      "cell_type": "code",
      "source": [
        "students={\n",
        "    'name':['Marchella','Raisa','Nasri'],\n",
        "    'age':[18,19,20],\n",
        "    'hobby':['Golf','Swimming','Cooking']\n",
        "}\n",
        "\n",
        "students"
      ],
      "metadata": {
        "colab": {
          "base_uri": "https://localhost:8080/"
        },
        "id": "mW-Svv65KJoy",
        "outputId": "49bf45eb-199e-4451-df60-4a0cbb7a3dc7"
      },
      "execution_count": null,
      "outputs": [
        {
          "output_type": "execute_result",
          "data": {
            "text/plain": [
              "{'name': ['Marchella', 'Raisa', 'Nasri'],\n",
              " 'age': [18, 19, 20],\n",
              " 'hobby': ['Golf', 'Swimming', 'Cooking']}"
            ]
          },
          "metadata": {},
          "execution_count": 35
        }
      ]
    },
    {
      "cell_type": "code",
      "source": [
        "# Tambahkan value 'arif' didalam name\n",
        "for x in students:\n",
        "  if x == 'name':\n",
        "    students[x].append('Arif')"
      ],
      "metadata": {
        "id": "tL1wsAipKUjq"
      },
      "execution_count": null,
      "outputs": []
    },
    {
      "cell_type": "code",
      "source": [
        "type(students['name'])"
      ],
      "metadata": {
        "colab": {
          "base_uri": "https://localhost:8080/"
        },
        "id": "eUufqM2_LNvV",
        "outputId": "cd757ebb-4d92-47b3-fdff-f24fb0ed6faf"
      },
      "execution_count": null,
      "outputs": [
        {
          "output_type": "execute_result",
          "data": {
            "text/plain": [
              "list"
            ]
          },
          "metadata": {},
          "execution_count": 42
        }
      ]
    },
    {
      "cell_type": "code",
      "source": [
        "students"
      ],
      "metadata": {
        "colab": {
          "base_uri": "https://localhost:8080/"
        },
        "id": "7IgpIIGjK4so",
        "outputId": "1d08d72a-ebe9-45e3-c8db-056c207b338a"
      },
      "execution_count": null,
      "outputs": [
        {
          "output_type": "execute_result",
          "data": {
            "text/plain": [
              "{'name': ['Marchella', 'Raisa', 'Nasri', 'Arif'],\n",
              " 'age': [18, 19, 20],\n",
              " 'hobby': ['Golf', 'Swimming', 'Cooking']}"
            ]
          },
          "metadata": {},
          "execution_count": 41
        }
      ]
    },
    {
      "cell_type": "code",
      "source": [
        "def my_name():\n",
        "  print('my name is arif')"
      ],
      "metadata": {
        "id": "Nws3se88LDJw"
      },
      "execution_count": null,
      "outputs": []
    },
    {
      "cell_type": "code",
      "source": [
        "my_name()"
      ],
      "metadata": {
        "colab": {
          "base_uri": "https://localhost:8080/"
        },
        "id": "S1Mb5H2nMLsh",
        "outputId": "26d11037-324c-4286-9122-3f33a05bd2ab"
      },
      "execution_count": null,
      "outputs": [
        {
          "output_type": "stream",
          "name": "stdout",
          "text": [
            "my name is arif\n"
          ]
        }
      ]
    },
    {
      "cell_type": "code",
      "source": [
        "# perhitungan rumus 1 : invers matrix, rumus 2 luas bangunan"
      ],
      "metadata": {
        "id": "fPOb3jYZMRJ8"
      },
      "execution_count": null,
      "outputs": []
    },
    {
      "cell_type": "code",
      "source": [
        "def my_name(nama):\n",
        "  print('my name is :', nama)"
      ],
      "metadata": {
        "id": "ao9AcQ6YM3fX"
      },
      "execution_count": null,
      "outputs": []
    },
    {
      "cell_type": "code",
      "source": [
        "my_name('arif')"
      ],
      "metadata": {
        "colab": {
          "base_uri": "https://localhost:8080/"
        },
        "id": "E2OcaguQM8W4",
        "outputId": "d125386d-89e2-4b1d-aa53-22ce517ef635"
      },
      "execution_count": null,
      "outputs": [
        {
          "output_type": "stream",
          "name": "stdout",
          "text": [
            "my name is : arif\n"
          ]
        }
      ]
    },
    {
      "cell_type": "code",
      "source": [
        "my_name('aulia')"
      ],
      "metadata": {
        "colab": {
          "base_uri": "https://localhost:8080/"
        },
        "id": "oH9IkIsyM9sk",
        "outputId": "321b0319-93f2-41f6-f697-37db5a7700da"
      },
      "execution_count": null,
      "outputs": [
        {
          "output_type": "stream",
          "name": "stdout",
          "text": [
            "my name is : aulia\n"
          ]
        }
      ]
    },
    {
      "cell_type": "code",
      "source": [
        "def my_name(nama, age, status):\n",
        "  print('my name is :', nama)\n",
        "  print('my age  is :', age)\n",
        "  print('my status  is :', status)"
      ],
      "metadata": {
        "id": "EEUtZKUrM_5r"
      },
      "execution_count": null,
      "outputs": []
    },
    {
      "cell_type": "code",
      "source": [
        "my_name('aulia',17,'double')"
      ],
      "metadata": {
        "colab": {
          "base_uri": "https://localhost:8080/"
        },
        "id": "aDyBcfknNgCc",
        "outputId": "e51834b1-da84-42f5-b483-2a51b0a3f1dc"
      },
      "execution_count": null,
      "outputs": [
        {
          "output_type": "stream",
          "name": "stdout",
          "text": [
            "my name is : aulia\n",
            "my age  is : 17\n",
            "my status  is : double\n"
          ]
        }
      ]
    },
    {
      "cell_type": "code",
      "source": [
        "my_name(age=17,status='double', nama='aulia')"
      ],
      "metadata": {
        "colab": {
          "base_uri": "https://localhost:8080/"
        },
        "id": "m9MqBGQVNom5",
        "outputId": "34dcb108-1c1f-4e96-e060-b35b9a4ca352"
      },
      "execution_count": null,
      "outputs": [
        {
          "output_type": "stream",
          "name": "stdout",
          "text": [
            "my name is : aulia\n",
            "my age  is : 17\n",
            "my status  is : double\n"
          ]
        }
      ]
    },
    {
      "cell_type": "code",
      "source": [
        "def my_name(nama, age, status='nikah'):\n",
        "  print('my name is :', nama)\n",
        "  print('my age  is :', age)\n",
        "  print('my status  is :', status)"
      ],
      "metadata": {
        "id": "EVod23hwNv93"
      },
      "execution_count": null,
      "outputs": []
    },
    {
      "cell_type": "code",
      "source": [
        "my_name('aulia',17)"
      ],
      "metadata": {
        "colab": {
          "base_uri": "https://localhost:8080/"
        },
        "id": "6NdNCgQ8OC8B",
        "outputId": "79b01ff6-e356-474f-ce31-fdbdd1a3f1bc"
      },
      "execution_count": null,
      "outputs": [
        {
          "output_type": "stream",
          "name": "stdout",
          "text": [
            "my name is : aulia\n",
            "my age  is : 17\n",
            "my status  is : nikah\n"
          ]
        }
      ]
    },
    {
      "cell_type": "code",
      "source": [
        "my_name('aulia',17,'double')"
      ],
      "metadata": {
        "colab": {
          "base_uri": "https://localhost:8080/"
        },
        "id": "NbScKh-pOFCS",
        "outputId": "960adbf9-5639-4279-cb39-053019dff9ff"
      },
      "execution_count": null,
      "outputs": [
        {
          "output_type": "stream",
          "name": "stdout",
          "text": [
            "my name is : aulia\n",
            "my age  is : 17\n",
            "my status  is : double\n"
          ]
        }
      ]
    },
    {
      "cell_type": "code",
      "source": [
        "nilai_akhir = 70\n",
        "\n",
        "if nilai_akhir >= 80:\n",
        "  print('anda lulus')\n",
        "else:\n",
        "  print('anda tidak lulus')"
      ],
      "metadata": {
        "colab": {
          "base_uri": "https://localhost:8080/"
        },
        "id": "PluaM-HyOQZ3",
        "outputId": "b61ae04d-21b0-429c-c52e-28302f159a64"
      },
      "execution_count": null,
      "outputs": [
        {
          "output_type": "stream",
          "name": "stdout",
          "text": [
            "anda tidak lulus\n"
          ]
        }
      ]
    },
    {
      "cell_type": "code",
      "source": [
        "nilai_akhir = 90\n",
        "\n",
        "if nilai_akhir >= 80:\n",
        "  print('anda lulus')\n",
        "else:\n",
        "  print('anda tidak lulus')"
      ],
      "metadata": {
        "colab": {
          "base_uri": "https://localhost:8080/"
        },
        "id": "u-d1Lcw7Ohu_",
        "outputId": "bd46dbfd-c234-4078-d212-3ce3dc009f7b"
      },
      "execution_count": null,
      "outputs": [
        {
          "output_type": "stream",
          "name": "stdout",
          "text": [
            "anda lulus\n"
          ]
        }
      ]
    },
    {
      "cell_type": "code",
      "source": [
        "def check_grade(na):\n",
        "    if na >= 80:\n",
        "        print(\"Anda lulus.\")\n",
        "    else:\n",
        "        print(\"Anda tidak lulus.\")"
      ],
      "metadata": {
        "id": "d-_mrb_sOjyl"
      },
      "execution_count": null,
      "outputs": []
    },
    {
      "cell_type": "code",
      "source": [
        "check_grade(70)"
      ],
      "metadata": {
        "colab": {
          "base_uri": "https://localhost:8080/"
        },
        "id": "D2AcIWj6OoMN",
        "outputId": "44ac0bc3-1ad4-4b60-8c83-65a098e4f179"
      },
      "execution_count": null,
      "outputs": [
        {
          "output_type": "stream",
          "name": "stdout",
          "text": [
            "Anda tidak lulus.\n"
          ]
        }
      ]
    },
    {
      "cell_type": "code",
      "source": [
        "check_grade(90)"
      ],
      "metadata": {
        "colab": {
          "base_uri": "https://localhost:8080/"
        },
        "id": "Jk3QLv5WOqiX",
        "outputId": "c56b1240-420a-4aba-dd3b-2f88dfe233ee"
      },
      "execution_count": null,
      "outputs": [
        {
          "output_type": "stream",
          "name": "stdout",
          "text": [
            "Anda lulus.\n"
          ]
        }
      ]
    },
    {
      "cell_type": "code",
      "source": [
        "# check_grade('90')"
      ],
      "metadata": {
        "id": "7UbIvnDqOsjh"
      },
      "execution_count": null,
      "outputs": []
    },
    {
      "cell_type": "code",
      "source": [
        "def check_grade(na):\n",
        "    if na >= 80:\n",
        "        return \"Anda lulus.\"\n",
        "    else:\n",
        "        return \"Anda tidak lulus.\""
      ],
      "metadata": {
        "id": "k4IOsT9TOzMT"
      },
      "execution_count": null,
      "outputs": []
    },
    {
      "cell_type": "code",
      "source": [
        "hasil_kelulusan = check_grade(90)"
      ],
      "metadata": {
        "id": "cmSs05l-PHi5"
      },
      "execution_count": null,
      "outputs": []
    },
    {
      "cell_type": "code",
      "source": [
        "hasil_kelulusan"
      ],
      "metadata": {
        "colab": {
          "base_uri": "https://localhost:8080/",
          "height": 35
        },
        "id": "nPUsZwRaPIf6",
        "outputId": "19f8c104-4939-4ff9-c78a-f996a9a5e547"
      },
      "execution_count": null,
      "outputs": [
        {
          "output_type": "execute_result",
          "data": {
            "text/plain": [
              "'Anda lulus.'"
            ],
            "application/vnd.google.colaboratory.intrinsic+json": {
              "type": "string"
            }
          },
          "metadata": {},
          "execution_count": 67
        }
      ]
    },
    {
      "cell_type": "code",
      "source": [
        "def check_grade(na):\n",
        "    if na >= 80:\n",
        "        return \"Anda lulus.\", 'anda dapat bonus'\n",
        "    else:\n",
        "        return \"Anda tidak lulus.\" , 'anda tidak dapat bonus'"
      ],
      "metadata": {
        "id": "Nmx0N4bqPQNV"
      },
      "execution_count": null,
      "outputs": []
    },
    {
      "cell_type": "code",
      "source": [
        "hasil_kelulusan, bonus = check_grade(90)"
      ],
      "metadata": {
        "id": "iN0Upd4RPmQx"
      },
      "execution_count": null,
      "outputs": []
    },
    {
      "cell_type": "code",
      "source": [
        "hasil_kelulusan"
      ],
      "metadata": {
        "colab": {
          "base_uri": "https://localhost:8080/",
          "height": 35
        },
        "id": "XeEvRxWxPqsQ",
        "outputId": "27e583b6-bed7-43e0-926a-8d64e12261a2"
      },
      "execution_count": null,
      "outputs": [
        {
          "output_type": "execute_result",
          "data": {
            "text/plain": [
              "'Anda lulus.'"
            ],
            "application/vnd.google.colaboratory.intrinsic+json": {
              "type": "string"
            }
          },
          "metadata": {},
          "execution_count": 70
        }
      ]
    },
    {
      "cell_type": "code",
      "source": [
        "bonus"
      ],
      "metadata": {
        "colab": {
          "base_uri": "https://localhost:8080/",
          "height": 35
        },
        "id": "IRrZItRpPuDe",
        "outputId": "8e0d367d-ab8e-45de-ff96-140d26b327c8"
      },
      "execution_count": null,
      "outputs": [
        {
          "output_type": "execute_result",
          "data": {
            "text/plain": [
              "'anda dapat bonus'"
            ],
            "application/vnd.google.colaboratory.intrinsic+json": {
              "type": "string"
            }
          },
          "metadata": {},
          "execution_count": 71
        }
      ]
    },
    {
      "cell_type": "code",
      "source": [
        "def areacircle(r):\n",
        "   return 3.14 * r * r"
      ],
      "metadata": {
        "id": "jSZ_4CtPPvRE"
      },
      "execution_count": null,
      "outputs": []
    },
    {
      "cell_type": "code",
      "source": [
        "luas_l_kecil = areacircle(5)\n",
        "luas_l_kecil"
      ],
      "metadata": {
        "colab": {
          "base_uri": "https://localhost:8080/"
        },
        "id": "Md_M_YrhQD_S",
        "outputId": "e3cd121b-2189-443f-dfec-45b8a0f1c50c"
      },
      "execution_count": null,
      "outputs": [
        {
          "output_type": "execute_result",
          "data": {
            "text/plain": [
              "78.5"
            ]
          },
          "metadata": {},
          "execution_count": 73
        }
      ]
    },
    {
      "cell_type": "code",
      "source": [
        "luas_l_besar = areacircle(15)\n",
        "luas_l_besar"
      ],
      "metadata": {
        "colab": {
          "base_uri": "https://localhost:8080/"
        },
        "id": "LRzkoQlSQIwN",
        "outputId": "f95b2a69-6194-42e3-e554-5ae04675ccc6"
      },
      "execution_count": null,
      "outputs": [
        {
          "output_type": "execute_result",
          "data": {
            "text/plain": [
              "706.5"
            ]
          },
          "metadata": {},
          "execution_count": 74
        }
      ]
    },
    {
      "cell_type": "code",
      "source": [
        "r = 5\n",
        "luas_l_kecil = 3.14 * r * r\n",
        "luas_l_kecil"
      ],
      "metadata": {
        "colab": {
          "base_uri": "https://localhost:8080/"
        },
        "id": "cqVVwmPoQP2I",
        "outputId": "5163e519-ae4d-4322-be5e-828fee55c887"
      },
      "execution_count": null,
      "outputs": [
        {
          "output_type": "execute_result",
          "data": {
            "text/plain": [
              "78.5"
            ]
          },
          "metadata": {},
          "execution_count": 78
        }
      ]
    },
    {
      "cell_type": "code",
      "source": [
        "r = 15\n",
        "luas_l_besar = 3.14 * r * r\n",
        "luas_l_besar"
      ],
      "metadata": {
        "colab": {
          "base_uri": "https://localhost:8080/"
        },
        "id": "aizXiq1cQYgt",
        "outputId": "c9d1de65-7979-4e60-e41d-9828f0676577"
      },
      "execution_count": null,
      "outputs": [
        {
          "output_type": "execute_result",
          "data": {
            "text/plain": [
              "706.5"
            ]
          },
          "metadata": {},
          "execution_count": 79
        }
      ]
    },
    {
      "cell_type": "code",
      "source": [
        "# a dan b\n",
        "# param a, b, status\n",
        "status = 'tambah'\n",
        "return pertambahan\n",
        "\n",
        "status = 'kali'\n",
        "return perkalian\n",
        "\n",
        "status = 'bagi'\n",
        "return ]"
      ],
      "metadata": {
        "id": "h8gKWQ_sQccP"
      },
      "execution_count": null,
      "outputs": []
    }
  ]
}